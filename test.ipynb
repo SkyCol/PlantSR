{
 "cells": [
  {
   "cell_type": "code",
   "execution_count": 3,
   "metadata": {},
   "outputs": [],
   "source": [
    "## Test Bicubic"
   ]
  },
  {
   "cell_type": "code",
   "execution_count": 4,
   "metadata": {},
   "outputs": [],
   "source": [
    "from calulate_psnr_ssim import *"
   ]
  },
  {
   "cell_type": "code",
   "execution_count": 6,
   "metadata": {},
   "outputs": [],
   "source": [
    "import cv2 as cv2\n",
    "import numpy as np\n",
    "import torch.nn.functional as F\n",
    "import os\n",
    "\n",
    "test_psnr = 0\n",
    "test_ssim = 0\n",
    "interpolate_psnr = 0\n",
    "image_count = 0\n",
    "upscale = 3\n",
    "\n",
    "test_path = r\"D:\\PC\\cyvision\\SR_datasets\\PlantSR_dataset\\test\"\n",
    "\n",
    "for filename in os.listdir(test_path):\n",
    "    if filename.endswith((\".png\",\".jpg\")):\n",
    "        image_count+=1\n",
    "        file_path = os.path.join(test_path, filename)\n",
    "        \n",
    "        hr_img = cv2.imread(file_path, cv2.IMREAD_COLOR).astype(np.float32) \n",
    "        h, w, _ = hr_img.shape\n",
    "\n",
    "        ## make sure same dimension\n",
    "        h -= h % upscale\n",
    "        w -= w % upscale\n",
    "        hr_img = hr_img[:h, :w]\n",
    "        \n",
    "        lr_image = cv2.resize(hr_img, (w // upscale, h // upscale), interpolation=cv2.INTER_LINEAR) \n",
    "        output = cv2.resize(lr_image, (w, h), interpolation=cv2.INTER_CUBIC) \n",
    "        \n",
    "        psnr = calc_psnr(hr_img, output)\n",
    "        ssim = calc_ssim(hr_img, output)\n",
    "        test_psnr += psnr\n",
    "        test_ssim += ssim\n",
    "\n",
    "test_psnr = test_psnr/image_count\n",
    "test_ssim = test_ssim/image_count"
   ]
  },
  {
   "cell_type": "code",
   "execution_count": 7,
   "metadata": {},
   "outputs": [
    {
     "name": "stdout",
     "output_type": "stream",
     "text": [
      "test psnr: 33.56\n",
      "test ssim: 0.9128\n"
     ]
    }
   ],
   "source": [
    "print('test psnr: {:.2f}'.format(test_psnr))\n",
    "print('test ssim: {:.4f}'.format(test_ssim))"
   ]
  },
  {
   "cell_type": "code",
   "execution_count": 67,
   "metadata": {},
   "outputs": [],
   "source": [
    "## Test EDSR"
   ]
  },
  {
   "cell_type": "code",
   "execution_count": 15,
   "metadata": {},
   "outputs": [],
   "source": [
    "from models.EDSR import EDSR\n",
    "import torch\n",
    "device = 'cuda'\n",
    "model_path = r'outputs/edsr_x4_best.pth'\n",
    "upscale = 4\n",
    "model = EDSR(\n",
    "    num_in_ch=3, num_out_ch=3,num_feat=64,num_block=16,upscale=upscale,res_scale=1)\n",
    "model.load_state_dict(torch.load(model_path), strict=True)\n",
    "model.eval()\n",
    "model = model.to(device)"
   ]
  },
  {
   "cell_type": "code",
   "execution_count": 17,
   "metadata": {},
   "outputs": [],
   "source": [
    "import cv2 as cv2\n",
    "import numpy as np\n",
    "import torch.nn.functional as F\n",
    "import os\n",
    "\n",
    "test_psnr = 0\n",
    "test_ssim = 0\n",
    "interpolate_psnr = 0\n",
    "image_count = 0\n",
    "\n",
    "test_path = \"./data/PlantSR_dataset/test\"\n",
    "\n",
    "for filename in os.listdir(test_path):\n",
    "    if filename.endswith((\".png\",\".jpg\")):\n",
    "        print(image_count)\n",
    "        image_count+=1\n",
    "        file_path = os.path.join(test_path, filename)\n",
    "        \n",
    "        hr_img = cv2.imread(file_path, cv2.IMREAD_COLOR).astype(np.float32) \n",
    "        h, w, _ = hr_img.shape\n",
    "\n",
    "        ## make sure same dimension\n",
    "        h -= h % upscale\n",
    "        w -= w % upscale\n",
    "        hr_img = hr_img[:h, :w]\n",
    "        \n",
    "        lr_image = cv2.resize(hr_img, (w // upscale, h // upscale), interpolation=cv2.INTER_LINEAR) \n",
    "        lr_image = lr_image/255.\n",
    "        lr_image = torch.from_numpy(np.transpose(lr_image[:, :, [2, 1, 0]],\n",
    "                                                (2, 0, 1))).float()\n",
    "        lr_image = lr_image.unsqueeze(0).to(device)\n",
    "        \n",
    "        \n",
    "        with torch.no_grad():\n",
    "            output = model(lr_image)\n",
    "\n",
    "        output = output.data.squeeze().float().cpu().clamp_(0, 1).numpy()\n",
    "        output = np.transpose(output[[2, 1, 0], :, :], (1, 2, 0))\n",
    "        output = (output * 255.0)\n",
    "\n",
    "        # if (output.shape[2] != hr_img.shape[2]) or (output.shape[3] != hr_img.shape[3]):\n",
    "        #     output = F.interpolate(output, size=(h, w), mode='bilinear', align_corners=False)\n",
    "            \n",
    "        psnr = calc_psnr(hr_img, output)\n",
    "        ssim = calc_ssim(hr_img, output)\n",
    "        test_psnr += psnr\n",
    "        test_ssim += ssim\n",
    "\n",
    "test_psnr = test_psnr/image_count\n",
    "test_ssim = test_ssim/image_count"
   ]
  },
  {
   "cell_type": "code",
   "execution_count": 20,
   "metadata": {},
   "outputs": [
    {
     "name": "stdout",
     "output_type": "stream",
     "text": [
      "test psnr: 37.36\n",
      "test ssim: 0.9355\n"
     ]
    }
   ],
   "source": [
    "print('test psnr: {:.2f}'.format(test_psnr))\n",
    "print('test ssim: {:.4f}'.format(test_ssim))"
   ]
  },
  {
   "cell_type": "code",
   "execution_count": 51,
   "metadata": {},
   "outputs": [],
   "source": [
    "## test SwinIR"
   ]
  },
  {
   "cell_type": "code",
   "execution_count": 5,
   "metadata": {},
   "outputs": [],
   "source": [
    "from models.network_swinir import SwinIR as net\n",
    "import torch\n",
    "device = 'cuda'\n",
    "model_path = r'outputs/SwinIR_x3_30000_7.pth'\n",
    "upscale = 3\n",
    "model = net(upscale=upscale, in_chans=3, img_size=64, window_size=8,\n",
    "            img_range=1., depths=[6, 6, 6, 6, 6, 6], embed_dim=180, num_heads=[6, 6, 6, 6, 6, 6],\n",
    "            mlp_ratio=2, upsampler='pixelshuffle', resi_connection='1conv').to(device)\n",
    "model.load_state_dict(torch.load(model_path), strict=True)\n",
    "model.eval()\n",
    "model = model.to(device)"
   ]
  },
  {
   "cell_type": "code",
   "execution_count": 2,
   "metadata": {},
   "outputs": [],
   "source": [
    "from calulate_psnr_ssim import *"
   ]
  },
  {
   "cell_type": "code",
   "execution_count": 6,
   "metadata": {},
   "outputs": [],
   "source": [
    "import cv2 as cv2\n",
    "import numpy as np\n",
    "import torch.nn.functional as F\n",
    "import os\n",
    "\n",
    "test_psnr = 0\n",
    "test_ssim = 0\n",
    "interpolate_psnr = 0\n",
    "image_count = 0\n",
    "\n",
    "test_path = \"./data/PlantSR_dataset/test\"\n",
    "\n",
    "for filename in os.listdir(test_path):\n",
    "    if filename.endswith((\".png\",\".jpg\")):\n",
    "        image_count+=1\n",
    "        print(image_count)\n",
    "        file_path = os.path.join(test_path, filename)\n",
    "        \n",
    "        hr_img = cv2.imread(file_path, cv2.IMREAD_COLOR).astype(np.float32) \n",
    "        h, w, _ = hr_img.shape\n",
    "\n",
    "        ## make sure same dimension\n",
    "        h -= h % upscale\n",
    "        w -= w % upscale\n",
    "        hr_img = hr_img[:h, :w]\n",
    "        \n",
    "        lr_image = cv2.resize(hr_img, (w // upscale, h // upscale), interpolation=cv2.INTER_LINEAR) \n",
    "        lr_image = lr_image/255.\n",
    "        lr_image = torch.from_numpy(np.transpose(lr_image[:, :, [2, 1, 0]],\n",
    "                                                (2, 0, 1))).float()\n",
    "        lr_image = lr_image.unsqueeze(0).to(device)\n",
    "        \n",
    "        with torch.no_grad():\n",
    "            output = model(lr_image)\n",
    "\n",
    "        output = output.data.squeeze().float().cpu().clamp_(0, 1).numpy()\n",
    "        output = np.transpose(output[[2, 1, 0], :, :], (1, 2, 0))\n",
    "        output = (output * 255.0)\n",
    "\n",
    "        # if (output.shape[2] != hr_img.shape[2]) or (output.shape[3] != hr_img.shape[3]):\n",
    "        #     output = F.interpolate(output, size=(h, w), mode='bilinear', align_corners=False)\n",
    "            \n",
    "        psnr = calc_psnr(hr_img, output)\n",
    "        ssim = calc_ssim(hr_img, output)\n",
    "        test_psnr += psnr\n",
    "        test_ssim += ssim\n",
    "\n",
    "test_psnr = test_psnr/image_count\n",
    "test_ssim = test_ssim/image_count"
   ]
  },
  {
   "cell_type": "code",
   "execution_count": 4,
   "metadata": {},
   "outputs": [
    {
     "name": "stdout",
     "output_type": "stream",
     "text": [
      "test psnr: 34.65\n",
      "test ssim: 0.9291\n"
     ]
    }
   ],
   "source": [
    "print('test psnr: {:.2f}'.format(test_psnr))\n",
    "print('test ssim: {:.4f}'.format(test_ssim))"
   ]
  },
  {
   "cell_type": "code",
   "execution_count": 98,
   "metadata": {},
   "outputs": [],
   "source": [
    "## test SRCNN"
   ]
  },
  {
   "cell_type": "code",
   "execution_count": 1,
   "metadata": {},
   "outputs": [],
   "source": [
    "from models.SRCNN import SRCNN"
   ]
  },
  {
   "cell_type": "code",
   "execution_count": 2,
   "metadata": {},
   "outputs": [],
   "source": [
    "from torch.utils.data import DataLoader\n",
    "import torch.nn as nn\n",
    "import torch\n",
    "\n",
    "##  upscale = 2/3/4\n",
    "upscale= 3\n",
    "model_path = 'outputs/SRCNN_x3_5.pth'\n",
    "device = 'cuda:0'\n",
    "\n",
    "model = SRCNN()\n",
    "model.load_state_dict(torch.load(model_path), strict=True)\n",
    "model.eval()\n",
    "model = model.to(device)"
   ]
  },
  {
   "cell_type": "code",
   "execution_count": 4,
   "metadata": {},
   "outputs": [],
   "source": [
    "import cv2 as cv2\n",
    "import numpy as np\n",
    "import torch.nn.functional as F\n",
    "import os\n",
    "\n",
    "test_psnr = 0\n",
    "test_ssim = 0\n",
    "interpolate_psnr = 0\n",
    "image_count = 0\n",
    "\n",
    "test_path = \"./data/PlantSR_dataset/test\"\n",
    "\n",
    "for filename in os.listdir(test_path):\n",
    "    if filename.endswith((\".png\",\".jpg\")):\n",
    "        image_count+=1\n",
    "        file_path = os.path.join(test_path, filename)\n",
    "        \n",
    "        hr_img = cv2.imread(file_path, cv2.IMREAD_COLOR).astype(np.float32) \n",
    "        h, w, _ = hr_img.shape\n",
    "\n",
    "        ## make sure same dimension\n",
    "        h -= h % upscale\n",
    "        w -= w % upscale\n",
    "        hr_img = hr_img[:h, :w]\n",
    "        \n",
    "        lr_image = cv2.resize(hr_img, (w // upscale, h // upscale), interpolation=cv2.INTER_LINEAR) \n",
    "        lr_image = cv2.resize(lr_image, (w, h), interpolation=cv2.INTER_LINEAR)\n",
    "        lr_image = lr_image/255.\n",
    "        lr_image = torch.from_numpy(np.transpose(lr_image[:, :, [2, 1, 0]],\n",
    "                                                (2, 0, 1))).float()\n",
    "        lr_image = lr_image.unsqueeze(0).to(device)\n",
    "        \n",
    "        \n",
    "        with torch.no_grad():\n",
    "            output = model(lr_image)\n",
    "\n",
    "        output = output.data.squeeze().float().cpu().clamp_(0, 1).numpy()\n",
    "        output = np.transpose(output[[2, 1, 0], :, :], (1, 2, 0))\n",
    "        output = (output * 255.0)\n",
    "\n",
    "        # if (output.shape[2] != hr_img.shape[2]) or (output.shape[3] != hr_img.shape[3]):\n",
    "        #     output = F.interpolate(output, size=(h, w), mode='bilinear', align_corners=False)\n",
    "            \n",
    "        psnr = calc_psnr(hr_img, output)\n",
    "        ssim = calc_ssim(hr_img, output)\n",
    "        test_psnr += psnr\n",
    "        test_ssim += ssim\n",
    "\n",
    "test_psnr = test_psnr/image_count\n",
    "test_ssim = test_ssim/image_count"
   ]
  },
  {
   "cell_type": "code",
   "execution_count": 5,
   "metadata": {},
   "outputs": [
    {
     "name": "stdout",
     "output_type": "stream",
     "text": [
      "test psnr: 34.24\n",
      "test ssim: 0.9190\n"
     ]
    }
   ],
   "source": [
    "print('test psnr: {:.2f}'.format(test_psnr))\n",
    "print('test ssim: {:.4f}'.format(test_ssim))"
   ]
  },
  {
   "cell_type": "code",
   "execution_count": 1,
   "metadata": {},
   "outputs": [],
   "source": [
    "## test RCAN"
   ]
  },
  {
   "cell_type": "code",
   "execution_count": 5,
   "metadata": {},
   "outputs": [],
   "source": [
    "from models.RCAN import RCAN\n",
    "import torch\n",
    "\n",
    "upscale = 3\n",
    "device = 'cuda'\n",
    "model_path = r'outputs/RCAN_x3_6.pth'\n",
    "\n",
    "class Args():\n",
    "  def __init__(self,num_channel,num_feat,scale,n_resgroups,n_resblocks,reduction) :\n",
    "    self.num_channel = num_channel\n",
    "    self.num_feat = num_feat\n",
    "    self.scale = scale\n",
    "    self.n_resgroups = n_resgroups\n",
    "    self.n_resblocks = n_resblocks\n",
    "    self.reduction = reduction\n",
    "args = Args(3,64,upscale,10,20,16)\n",
    "model = RCAN(args)\n",
    "model.load_state_dict(torch.load(model_path), strict=True)\n",
    "model.eval()\n",
    "model = model.to(device)"
   ]
  },
  {
   "cell_type": "code",
   "execution_count": 7,
   "metadata": {},
   "outputs": [],
   "source": [
    "import cv2 as cv2\n",
    "import numpy as np\n",
    "import torch.nn.functional as F\n",
    "import os\n",
    "\n",
    "test_psnr = 0\n",
    "test_ssim = 0\n",
    "image_count = 0\n",
    "\n",
    "test_path = \"./data/PlantSR_dataset/test\"\n",
    "\n",
    "for filename in os.listdir(test_path):\n",
    "    if filename.endswith((\".png\",\".jpg\")):\n",
    "        image_count+=1\n",
    "        file_path = os.path.join(test_path, filename)\n",
    "        \n",
    "        hr_img = cv2.imread(file_path, cv2.IMREAD_COLOR).astype(np.float32) \n",
    "        h, w, _ = hr_img.shape\n",
    "\n",
    "        ## make sure same dimension\n",
    "        h -= h % upscale\n",
    "        w -= w % upscale\n",
    "        hr_img = hr_img[:h, :w]\n",
    "        \n",
    "        lr_image = cv2.resize(hr_img, (w // upscale, h // upscale), interpolation=cv2.INTER_LINEAR) \n",
    "        lr_image = lr_image/255.\n",
    "        lr_image = torch.from_numpy(np.transpose(lr_image[:, :, [2, 1, 0]],\n",
    "                                                (2, 0, 1))).float()\n",
    "        lr_image = lr_image.unsqueeze(0).to(device)\n",
    "        \n",
    "        \n",
    "        with torch.no_grad():\n",
    "            output = model(lr_image)\n",
    "\n",
    "        output = output.data.squeeze().float().cpu().clamp_(0, 1).numpy()\n",
    "        output = np.transpose(output[[2, 1, 0], :, :], (1, 2, 0))\n",
    "        output = (output * 255.0)\n",
    "\n",
    "        # if (output.shape[2] != hr_img.shape[2]) or (output.shape[3] != hr_img.shape[3]):\n",
    "        #     output = F.interpolate(output, size=(h, w), mode='bilinear', align_corners=False)\n",
    "            \n",
    "        psnr = calc_psnr(hr_img, output)\n",
    "        ssim = calc_ssim(hr_img, output)\n",
    "        test_psnr += psnr\n",
    "        test_ssim += ssim\n",
    "\n",
    "test_psnr = test_psnr/image_count\n",
    "test_ssim = test_ssim/image_count"
   ]
  },
  {
   "cell_type": "code",
   "execution_count": 8,
   "metadata": {},
   "outputs": [
    {
     "name": "stdout",
     "output_type": "stream",
     "text": [
      "test psnr: 35.18\n",
      "test ssim: 0.9288\n"
     ]
    }
   ],
   "source": [
    "print('test psnr: {:.2f}'.format(test_psnr))\n",
    "print('test ssim: {:.4f}'.format(test_ssim))"
   ]
  },
  {
   "cell_type": "code",
   "execution_count": 6,
   "metadata": {},
   "outputs": [],
   "source": [
    "## test VDSR"
   ]
  },
  {
   "cell_type": "code",
   "execution_count": 1,
   "metadata": {},
   "outputs": [],
   "source": [
    "from models.VDSR import VDSR"
   ]
  },
  {
   "cell_type": "code",
   "execution_count": 2,
   "metadata": {},
   "outputs": [],
   "source": [
    "from torch.utils.data import DataLoader\n",
    "import torch.nn as nn\n",
    "import torch\n",
    "\n",
    "##  upscale = 2/3/4\n",
    "upscale= 2\n",
    "model_path = 'outputs/VDSR_x2_2.pth'\n",
    "device = 'cuda:0'\n",
    "\n",
    "model = VDSR()\n",
    "model.load_state_dict(torch.load(model_path), strict=True)\n",
    "model.eval()\n",
    "model = model.to(device)"
   ]
  },
  {
   "cell_type": "code",
   "execution_count": 4,
   "metadata": {},
   "outputs": [],
   "source": [
    "import cv2 as cv2\n",
    "import numpy as np\n",
    "import torch.nn.functional as F\n",
    "import os\n",
    "\n",
    "test_psnr = 0\n",
    "test_ssim = 0\n",
    "image_count = 0\n",
    "\n",
    "test_path = \"./data/PlantSR_dataset/test\"\n",
    "\n",
    "for filename in os.listdir(test_path):\n",
    "    if filename.endswith((\".png\",\".jpg\")):\n",
    "        image_count+=1\n",
    "        file_path = os.path.join(test_path, filename)\n",
    "        \n",
    "        hr_img = cv2.imread(file_path, cv2.IMREAD_COLOR).astype(np.float32) \n",
    "        h, w, _ = hr_img.shape\n",
    "\n",
    "        ## make sure same dimension\n",
    "        h -= h % upscale\n",
    "        w -= w % upscale\n",
    "        hr_img = hr_img[:h, :w]\n",
    "        \n",
    "        lr_image = cv2.resize(hr_img, (w // upscale, h // upscale), interpolation=cv2.INTER_LINEAR) \n",
    "        lr_image = cv2.resize(lr_image, (w, h), interpolation=cv2.INTER_LINEAR)\n",
    "        \n",
    "        lr_image = lr_image/255.\n",
    "        lr_image = torch.from_numpy(np.transpose(lr_image[:, :, [2, 1, 0]],\n",
    "                                                (2, 0, 1))).float()\n",
    "        lr_image = lr_image.unsqueeze(0).to(device)\n",
    "        \n",
    "        \n",
    "        with torch.no_grad():\n",
    "            output = model(lr_image)\n",
    "\n",
    "        output = output.data.squeeze().float().cpu().clamp_(0, 1).numpy()\n",
    "        output = np.transpose(output[[2, 1, 0], :, :], (1, 2, 0))\n",
    "        output = (output * 255.0)\n",
    "\n",
    "        # if (output.shape[2] != hr_img.shape[2]) or (output.shape[3] != hr_img.shape[3]):\n",
    "        #     output = F.interpolate(output, size=(h, w), mode='bilinear', align_corners=False)\n",
    "            \n",
    "        psnr = calc_psnr(hr_img, output)\n",
    "        ssim = calc_ssim(hr_img, output)\n",
    "        test_psnr += psnr\n",
    "        test_ssim += ssim\n",
    "\n",
    "test_psnr = test_psnr/image_count\n",
    "test_ssim = test_ssim/image_count"
   ]
  },
  {
   "cell_type": "code",
   "execution_count": 5,
   "metadata": {},
   "outputs": [
    {
     "name": "stdout",
     "output_type": "stream",
     "text": [
      "test psnr: 40.31\n",
      "test ssim: 0.9716\n"
     ]
    }
   ],
   "source": [
    "print('test psnr: {:.2f}'.format(test_psnr))\n",
    "print('test ssim: {:.4f}'.format(test_ssim))"
   ]
  },
  {
   "cell_type": "code",
   "execution_count": 1,
   "metadata": {},
   "outputs": [],
   "source": [
    "## test PlantSR"
   ]
  },
  {
   "cell_type": "code",
   "execution_count": 26,
   "metadata": {},
   "outputs": [],
   "source": [
    "from models.PlantSR import PlantSR\n",
    "# from PLtest import PlantSR\n",
    "import torch\n",
    "\n",
    "upscale = 2\n",
    "device = 'cuda'\n",
    "# model_path = r'outputs/PlantSR_x4_20000_10.pth'\n",
    "model_path = r'outputs/PlantSR_x2_20000_1.pth'\n",
    "device = torch.device('cuda:0')\n",
    "if upscale == 4:\n",
    "    model = PlantSR(scale=upscale,num_features=96,n_resgroups=16,n_resblocks=4,reduction=16)\n",
    "if upscale == 2:\n",
    "    model = PlantSR(scale=upscale,num_features=32,n_resgroups=16,n_resblocks=4,reduction=16)\n",
    "if upscale == 3:\n",
    "    model = PlantSR(scale=upscale,num_features=64,n_resgroups=16,n_resblocks=4,reduction=16)\n",
    "\n",
    "model.load_state_dict(torch.load(model_path), strict=True)\n",
    "model.eval()\n",
    "model = model.to(device)"
   ]
  },
  {
   "cell_type": "code",
   "execution_count": 7,
   "metadata": {},
   "outputs": [],
   "source": [
    "import cv2 as cv2\n",
    "import numpy as np\n",
    "import torch.nn.functional as F\n",
    "from calulate_psnr_ssim import *\n",
    "import os\n",
    "\n",
    "test_psnr = 0\n",
    "test_ssim = 0\n",
    "image_count = 0\n",
    "\n",
    "test_path = \"./data/PlantSR_dataset/test\"\n",
    "\n",
    "for filename in os.listdir(test_path):\n",
    "    if filename.endswith((\".png\",\".jpg\")):\n",
    "        image_count+=1\n",
    "        print(image_count)\n",
    "        file_path = os.path.join(test_path, filename)\n",
    "        \n",
    "        hr_img = cv2.imread(file_path, cv2.IMREAD_COLOR).astype(np.float32) \n",
    "        h, w, _ = hr_img.shape\n",
    "\n",
    "        ## make sure same dimension\n",
    "        h -= h % upscale\n",
    "        w -= w % upscale\n",
    "        hr_img = hr_img[:h, :w]\n",
    "        \n",
    "        lr_image = cv2.resize(hr_img, (w // upscale, h // upscale), interpolation=cv2.INTER_LINEAR) \n",
    "        lr_image = lr_image/255.\n",
    "        lr_image = torch.from_numpy(np.transpose(lr_image[:, :, [2, 1, 0]],\n",
    "                                                (2, 0, 1))).float()\n",
    "        lr_image = lr_image.unsqueeze(0).to(device)\n",
    "        \n",
    "        \n",
    "        with torch.no_grad():\n",
    "            output = model(lr_image)\n",
    "\n",
    "        output = output.data.squeeze().float().cpu().clamp_(0, 1).numpy()\n",
    "        output = np.transpose(output[[2, 1, 0], :, :], (1, 2, 0))\n",
    "        output = (output * 255.0)\n",
    "\n",
    "        # if (output.shape[2] != hr_img.shape[2]) or (output.shape[3] != hr_img.shape[3]):\n",
    "        #     output = F.interpolate(output, size=(h, w), mode='bilinear', align_corners=False)\n",
    "            \n",
    "        psnr = calc_psnr(hr_img, output)\n",
    "        ssim = calc_ssim(hr_img, output)\n",
    "        test_psnr += psnr\n",
    "        test_ssim += ssim\n",
    "\n",
    "test_psnr = test_psnr/image_count\n",
    "test_ssim = test_ssim/image_count"
   ]
  },
  {
   "cell_type": "code",
   "execution_count": 29,
   "metadata": {},
   "outputs": [
    {
     "name": "stdout",
     "output_type": "stream",
     "text": [
      "test psnr: 40.33\n",
      "test ssim: 0.9715\n"
     ]
    }
   ],
   "source": [
    "print('test psnr: {:.2f}'.format(test_psnr))\n",
    "print('test ssim: {:.4f}'.format(test_ssim))"
   ]
  },
  {
   "cell_type": "code",
   "execution_count": null,
   "metadata": {},
   "outputs": [],
   "source": []
  },
  {
   "cell_type": "code",
   "execution_count": null,
   "metadata": {},
   "outputs": [],
   "source": []
  }
 ],
 "metadata": {
  "kernelspec": {
   "display_name": "Python 3 (ipykernel)",
   "language": "python",
   "name": "python3"
  },
  "language_info": {
   "codemirror_mode": {
    "name": "ipython",
    "version": 3
   },
   "file_extension": ".py",
   "mimetype": "text/x-python",
   "name": "python",
   "nbconvert_exporter": "python",
   "pygments_lexer": "ipython3",
   "version": "3.9.12"
  }
 },
 "nbformat": 4,
 "nbformat_minor": 4
}
